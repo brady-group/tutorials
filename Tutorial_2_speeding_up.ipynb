{
 "cells": [
  {
   "cell_type": "markdown",
   "metadata": {},
   "source": [
    "# Speeding up your code!\n",
    "\n",
    "There are a lot of ways that your code can be improved to run faster or more efficiently. Some of these methods are simple stylistic tweaks that you can implement instantly, whereas others will take a little more thought and may only work in specific circumstances.\n",
    "\n",
    "This tutorial will cover the following topics:\n",
    "* Looping through lists\n",
    "* List comprehension\n",
    "* Working with vectors\n",
    "* CPU parallelization \n",
    "* GPU programming in Python.\n",
    "\n",
    "This tutorial will not go into depth about parallelization methods or CUDA programming in general, but will instead act as a survey to make you aware of potential routes to speed your code up and direct you to those resources.\n"
   ]
  },
  {
   "cell_type": "markdown",
   "metadata": {},
   "source": [
    "# Looping through lists\n",
    "\n",
    "When working with large data structures it is sometimes easy to get in the habit of writing a loop for every step of a process. Consider the following example. Assume we have a list of particle positions that we want to do some analysis on."
   ]
  },
  {
   "cell_type": "code",
   "execution_count": 1,
   "metadata": {},
   "outputs": [],
   "source": [
    "import numpy as np\n",
    "positions = np.random.randn(40000,3).tolist()"
   ]
  },
  {
   "cell_type": "markdown",
   "metadata": {},
   "source": [
    "Let's look at the shape of our list of particle positions and the first 30 values in the list."
   ]
  },
  {
   "cell_type": "code",
   "execution_count": 2,
   "metadata": {},
   "outputs": [
    {
     "name": "stdout",
     "output_type": "stream",
     "text": [
      "(40000, 3) \n",
      "\n"
     ]
    },
    {
     "data": {
      "text/plain": [
       "[[-1.010997633001826, -0.1333018287079396, -0.987424763386151],\n",
       " [-0.11295827450162073, -2.7996884434750946, -0.5705246123453378],\n",
       " [1.29349018649756, 1.8768419061011234, 0.8422020635423959],\n",
       " [-0.8607264221445806, 0.042544516312457654, -0.5637799183415761],\n",
       " [-1.219566718781759, -2.1086758349047825, -1.636880471785036],\n",
       " [0.8492939338765828, 0.35990459837909894, 0.6517898799297105],\n",
       " [1.857685033916256, -1.5942093271484838, -0.34306033041430545],\n",
       " [-0.7305423177330297, 1.3854314073948577, 0.4593562043976882],\n",
       " [1.139232240087528, -0.6034225773868718, -0.8560325653782608],\n",
       " [-1.7498729539864217, -0.319059779512917, 0.4910961792876506],\n",
       " [0.9276385582046336, -0.6172036157567746, -0.7463392483149577],\n",
       " [0.20155806238014187, 1.8338034010637059, -1.5763336669812253],\n",
       " [2.829300465484318, 1.6443720295444846, -1.8547229075546792],\n",
       " [0.4655379310025332, -0.4738636201892907, 0.35222292238047365],\n",
       " [0.12284872992828724, 0.8247784487684606, -0.0596888252926106],\n",
       " [1.113508274052741, -0.3675298703750682, 0.1023356703044374],\n",
       " [1.2874041843837387, 0.0858798594503338, 0.13379182951615354],\n",
       " [0.004682493238598989, -0.6353056055810153, 1.025530520411673],\n",
       " [-1.0842574627239072, 1.010682859588146, -0.8265979258004006],\n",
       " [-0.42072665645600704, -0.021046600908215838, -0.2413354566350866],\n",
       " [-0.6241165472565875, 0.7824729865047051, -0.4434501456816931],\n",
       " [0.9365147403541685, 0.7693215267382145, -0.20988949252868247],\n",
       " [1.7388709986837831, 0.08134054502260032, 0.586416430667455],\n",
       " [-0.3046275533828197, -1.2763721932562886, -0.593530663576101],\n",
       " [-0.07665958122149848, -1.1764759281166375, 0.9524760791724702],\n",
       " [-0.46656931771721416, 1.0767121417866505, -0.15238848370669772],\n",
       " [0.1764202339297435, -1.2386908906727911, 1.1031820068726468],\n",
       " [-0.28167109636181703, 0.6863833860737971, -0.8424326581681735],\n",
       " [1.0585848423781472, -0.4901371077695433, 1.8041495578740732],\n",
       " [1.3036550442301205, 0.5861627466241186, 0.7848692120113758]]"
      ]
     },
     "execution_count": 2,
     "metadata": {},
     "output_type": "execute_result"
    }
   ],
   "source": [
    "print(np.shape(positions),'\\n')\n",
    "\n",
    "positions[:30][:]"
   ]
  },
  {
   "cell_type": "markdown",
   "metadata": {},
   "source": [
    "<d></d>\n",
    "\n",
    "Notice that we have a list of 40,000 particle positions written in a 3D coordinate system. If we look closely we will notice that this is a list of coordinate lists. That is, each particle has a list the describes its x,y,z coordinates. \n",
    "\n",
    "Lets calculate the net displacement of each particle from the origin (0,0,0). \n",
    "\n",
    "We will do this in a few different ways to compare the speeds of various methods. To probe the \"speed\" of a calculation we will use either the magic command `%time` or `%timeit`. \n",
    "\n",
    "\n",
    "First let's consider a simple function that uses nested for loops to perform the calculation.  "
   ]
  },
  {
   "cell_type": "code",
   "execution_count": 3,
   "metadata": {},
   "outputs": [],
   "source": [
    "def disp_lists_loops(positions):\n",
    "    mag = []\n",
    "    for i in range(np.shape(positions)[0]):\n",
    "        cur_mag = 0\n",
    "        for j in range(np.shape(positions)[1]):\n",
    "            cur_mag += positions[i][j]**2\n",
    "        mag.append(np.sqrt(cur_mag))\n",
    "    return mag"
   ]
  },
  {
   "cell_type": "code",
   "execution_count": 4,
   "metadata": {},
   "outputs": [
    {
     "name": "stdout",
     "output_type": "stream",
     "text": [
      "CPU times: user 4min 37s, sys: 30.9 ms, total: 4min 37s\n",
      "Wall time: 4min 37s\n"
     ]
    }
   ],
   "source": [
    "mag = %time disp_lists_loops(positions);"
   ]
  },
  {
   "cell_type": "markdown",
   "metadata": {},
   "source": [
    "**Wow!** that took a long time to just get the magnitude of our particle displacements! We have effectively gone through Nx3 loops for this calculation, which can be really cumbersome as the number of particles increases. \n",
    "\n",
    "<font color=red>**BEWARE:**</font> The overhead of this **DOESN'T** scale linearly with N!!!\n",
    "\n",
    "Lets tweak our function a little bit to see if we can speed things up."
   ]
  },
  {
   "cell_type": "code",
   "execution_count": 15,
   "metadata": {},
   "outputs": [],
   "source": [
    "def disp_lists_loops_2(positions):\n",
    "    mag = []\n",
    "    for position in positions:\n",
    "        cur_mag = 0\n",
    "        for j in position:\n",
    "            cur_mag += j**2\n",
    "        mag.append(np.sqrt(cur_mag))\n",
    "    return mag"
   ]
  },
  {
   "cell_type": "code",
   "execution_count": 16,
   "metadata": {},
   "outputs": [
    {
     "name": "stdout",
     "output_type": "stream",
     "text": [
      "36.1 ms ± 1.57 ms per loop (mean ± std. dev. of 7 runs, 10 loops each)\n"
     ]
    }
   ],
   "source": [
    "mag_2 = %timeit disp_lists_loops_2(positions);"
   ]
  },
  {
   "cell_type": "markdown",
   "metadata": {},
   "source": [
    "This was substantially faster! All we did here was change the form of the iterator we were using in each loop. Instead of looping for a given # of iterations, we looped through the given objects in each of the lists.\n",
    "\n",
    "From this we can see that a simple syntax change can dramatically alter the speed at which our code is executed, and we have no penalties for writing in this way. \n",
    "\n",
    "Why is this? The `range` function is a generator. Generators load things in one at a time and as a result are much slower. However, using generators can save RAM if you can't load the full dataset in at once.\n",
    "\n",
    "That being said, can we make this faster?"
   ]
  },
  {
   "cell_type": "markdown",
   "metadata": {},
   "source": [
    "# List comprehension\n",
    "\n",
    "The same loop can also be written with a list comprehension. You can use list comprehension to replace many `for` and `while` blocks. List comprehension is faster because it is optimized for the Python interpreter to spot a predictable pattern during looping.\n",
    "\n",
    "Let's test it out!"
   ]
  },
  {
   "cell_type": "code",
   "execution_count": 7,
   "metadata": {},
   "outputs": [],
   "source": [
    "def disp_lists_listcomp(positions):\n",
    "    mag = []\n",
    "    for position in positions:\n",
    "        cur_mag = sum([j**2 for j in position])\n",
    "        mag.append(np.sqrt(cur_mag))\n",
    "    return mag"
   ]
  },
  {
   "cell_type": "code",
   "execution_count": 8,
   "metadata": {},
   "outputs": [
    {
     "name": "stdout",
     "output_type": "stream",
     "text": [
      "39.8 ms ± 203 µs per loop (mean ± std. dev. of 7 runs, 10 loops each)\n"
     ]
    }
   ],
   "source": [
    "mag_3 = %timeit disp_lists_listcomp(positions);"
   ]
  },
  {
   "cell_type": "markdown",
   "metadata": {},
   "source": [
    "Hmmm.... That didn't seem to help much. It is fairly comparable in speed to the loop we had before. We do have another loop that we can use list comprehension on."
   ]
  },
  {
   "cell_type": "code",
   "execution_count": 9,
   "metadata": {},
   "outputs": [],
   "source": [
    "def disp_lists_listcomp_2(positions):\n",
    "    mag = [np.sqrt(sum([j**2 for j in position])) for position in positions]\n",
    "    return mag"
   ]
  },
  {
   "cell_type": "code",
   "execution_count": 10,
   "metadata": {},
   "outputs": [
    {
     "name": "stdout",
     "output_type": "stream",
     "text": [
      "37.2 ms ± 222 µs per loop (mean ± std. dev. of 7 runs, 10 loops each)\n"
     ]
    }
   ],
   "source": [
    "mag_4 = %timeit disp_lists_listcomp_2(positions);"
   ]
  },
  {
   "cell_type": "markdown",
   "metadata": {},
   "source": [
    "We have a marginal increase in speed. This is comparable to our second looping function, but is still orders of magnitude faster than using our generator loops! In general list comprehension should be used when you're only doing one calculation in a loop. \n",
    "\n",
    "Be careful using nested list comprehension because it can very easily get confusing with a bunch of iterators floating around."
   ]
  },
  {
   "cell_type": "markdown",
   "metadata": {},
   "source": [
    "# Working with Vectors \n",
    "\n",
    "Next we will turn our attention to more complicated data. Our toy example of measuring particle displacement will still be useful (though this will seem a bit ridiculous).\n",
    "\n",
    "When doing more complicated data analysis we often would like to be able to search and query our data. This makes packages like <font color=blue> Pandas </font> really appealing because they provide an avenue through which searchable dataframes can be generated. \n",
    "\n",
    "Let's turn our list of particle positions into a dataframe!"
   ]
  },
  {
   "cell_type": "code",
   "execution_count": 11,
   "metadata": {},
   "outputs": [],
   "source": [
    "import pandas as pd\n",
    "\n",
    "df_positions = pd.DataFrame(positions)\n",
    "df_positions.columns = ['x','y','z']"
   ]
  },
  {
   "cell_type": "markdown",
   "metadata": {},
   "source": [
    "Now we can look at the top of the dataframe to see how we might search through data."
   ]
  },
  {
   "cell_type": "code",
   "execution_count": 12,
   "metadata": {},
   "outputs": [
    {
     "data": {
      "text/html": [
       "<div>\n",
       "<style scoped>\n",
       "    .dataframe tbody tr th:only-of-type {\n",
       "        vertical-align: middle;\n",
       "    }\n",
       "\n",
       "    .dataframe tbody tr th {\n",
       "        vertical-align: top;\n",
       "    }\n",
       "\n",
       "    .dataframe thead th {\n",
       "        text-align: right;\n",
       "    }\n",
       "</style>\n",
       "<table border=\"1\" class=\"dataframe\">\n",
       "  <thead>\n",
       "    <tr style=\"text-align: right;\">\n",
       "      <th></th>\n",
       "      <th>x</th>\n",
       "      <th>y</th>\n",
       "      <th>z</th>\n",
       "    </tr>\n",
       "  </thead>\n",
       "  <tbody>\n",
       "    <tr>\n",
       "      <th>0</th>\n",
       "      <td>-1.010998</td>\n",
       "      <td>-0.133302</td>\n",
       "      <td>-0.987425</td>\n",
       "    </tr>\n",
       "    <tr>\n",
       "      <th>1</th>\n",
       "      <td>-0.112958</td>\n",
       "      <td>-2.799688</td>\n",
       "      <td>-0.570525</td>\n",
       "    </tr>\n",
       "    <tr>\n",
       "      <th>2</th>\n",
       "      <td>1.293490</td>\n",
       "      <td>1.876842</td>\n",
       "      <td>0.842202</td>\n",
       "    </tr>\n",
       "    <tr>\n",
       "      <th>3</th>\n",
       "      <td>-0.860726</td>\n",
       "      <td>0.042545</td>\n",
       "      <td>-0.563780</td>\n",
       "    </tr>\n",
       "    <tr>\n",
       "      <th>4</th>\n",
       "      <td>-1.219567</td>\n",
       "      <td>-2.108676</td>\n",
       "      <td>-1.636880</td>\n",
       "    </tr>\n",
       "  </tbody>\n",
       "</table>\n",
       "</div>"
      ],
      "text/plain": [
       "          x         y         z\n",
       "0 -1.010998 -0.133302 -0.987425\n",
       "1 -0.112958 -2.799688 -0.570525\n",
       "2  1.293490  1.876842  0.842202\n",
       "3 -0.860726  0.042545 -0.563780\n",
       "4 -1.219567 -2.108676 -1.636880"
      ]
     },
     "execution_count": 12,
     "metadata": {},
     "output_type": "execute_result"
    }
   ],
   "source": [
    "df_positions.head()"
   ]
  },
  {
   "cell_type": "markdown",
   "metadata": {},
   "source": [
    "Notice that we have column headers labeled 'x', 'y', and 'z'. This allows us to make complicated queries of our data. Let's pull only the values of the dataset that have positive x values!"
   ]
  },
  {
   "cell_type": "code",
   "execution_count": 13,
   "metadata": {},
   "outputs": [
    {
     "data": {
      "text/html": [
       "<div>\n",
       "<style scoped>\n",
       "    .dataframe tbody tr th:only-of-type {\n",
       "        vertical-align: middle;\n",
       "    }\n",
       "\n",
       "    .dataframe tbody tr th {\n",
       "        vertical-align: top;\n",
       "    }\n",
       "\n",
       "    .dataframe thead th {\n",
       "        text-align: right;\n",
       "    }\n",
       "</style>\n",
       "<table border=\"1\" class=\"dataframe\">\n",
       "  <thead>\n",
       "    <tr style=\"text-align: right;\">\n",
       "      <th></th>\n",
       "      <th>x</th>\n",
       "      <th>y</th>\n",
       "      <th>z</th>\n",
       "    </tr>\n",
       "  </thead>\n",
       "  <tbody>\n",
       "    <tr>\n",
       "      <th>2</th>\n",
       "      <td>1.293490</td>\n",
       "      <td>1.876842</td>\n",
       "      <td>0.842202</td>\n",
       "    </tr>\n",
       "    <tr>\n",
       "      <th>5</th>\n",
       "      <td>0.849294</td>\n",
       "      <td>0.359905</td>\n",
       "      <td>0.651790</td>\n",
       "    </tr>\n",
       "    <tr>\n",
       "      <th>6</th>\n",
       "      <td>1.857685</td>\n",
       "      <td>-1.594209</td>\n",
       "      <td>-0.343060</td>\n",
       "    </tr>\n",
       "    <tr>\n",
       "      <th>8</th>\n",
       "      <td>1.139232</td>\n",
       "      <td>-0.603423</td>\n",
       "      <td>-0.856033</td>\n",
       "    </tr>\n",
       "    <tr>\n",
       "      <th>10</th>\n",
       "      <td>0.927639</td>\n",
       "      <td>-0.617204</td>\n",
       "      <td>-0.746339</td>\n",
       "    </tr>\n",
       "    <tr>\n",
       "      <th>11</th>\n",
       "      <td>0.201558</td>\n",
       "      <td>1.833803</td>\n",
       "      <td>-1.576334</td>\n",
       "    </tr>\n",
       "    <tr>\n",
       "      <th>12</th>\n",
       "      <td>2.829300</td>\n",
       "      <td>1.644372</td>\n",
       "      <td>-1.854723</td>\n",
       "    </tr>\n",
       "    <tr>\n",
       "      <th>13</th>\n",
       "      <td>0.465538</td>\n",
       "      <td>-0.473864</td>\n",
       "      <td>0.352223</td>\n",
       "    </tr>\n",
       "    <tr>\n",
       "      <th>14</th>\n",
       "      <td>0.122849</td>\n",
       "      <td>0.824778</td>\n",
       "      <td>-0.059689</td>\n",
       "    </tr>\n",
       "    <tr>\n",
       "      <th>15</th>\n",
       "      <td>1.113508</td>\n",
       "      <td>-0.367530</td>\n",
       "      <td>0.102336</td>\n",
       "    </tr>\n",
       "    <tr>\n",
       "      <th>16</th>\n",
       "      <td>1.287404</td>\n",
       "      <td>0.085880</td>\n",
       "      <td>0.133792</td>\n",
       "    </tr>\n",
       "    <tr>\n",
       "      <th>17</th>\n",
       "      <td>0.004682</td>\n",
       "      <td>-0.635306</td>\n",
       "      <td>1.025531</td>\n",
       "    </tr>\n",
       "    <tr>\n",
       "      <th>21</th>\n",
       "      <td>0.936515</td>\n",
       "      <td>0.769322</td>\n",
       "      <td>-0.209889</td>\n",
       "    </tr>\n",
       "    <tr>\n",
       "      <th>22</th>\n",
       "      <td>1.738871</td>\n",
       "      <td>0.081341</td>\n",
       "      <td>0.586416</td>\n",
       "    </tr>\n",
       "    <tr>\n",
       "      <th>26</th>\n",
       "      <td>0.176420</td>\n",
       "      <td>-1.238691</td>\n",
       "      <td>1.103182</td>\n",
       "    </tr>\n",
       "    <tr>\n",
       "      <th>28</th>\n",
       "      <td>1.058585</td>\n",
       "      <td>-0.490137</td>\n",
       "      <td>1.804150</td>\n",
       "    </tr>\n",
       "    <tr>\n",
       "      <th>29</th>\n",
       "      <td>1.303655</td>\n",
       "      <td>0.586163</td>\n",
       "      <td>0.784869</td>\n",
       "    </tr>\n",
       "    <tr>\n",
       "      <th>31</th>\n",
       "      <td>0.307561</td>\n",
       "      <td>0.556297</td>\n",
       "      <td>1.625855</td>\n",
       "    </tr>\n",
       "    <tr>\n",
       "      <th>36</th>\n",
       "      <td>0.038709</td>\n",
       "      <td>0.368440</td>\n",
       "      <td>-1.738358</td>\n",
       "    </tr>\n",
       "    <tr>\n",
       "      <th>37</th>\n",
       "      <td>0.075102</td>\n",
       "      <td>-1.130843</td>\n",
       "      <td>-0.020238</td>\n",
       "    </tr>\n",
       "    <tr>\n",
       "      <th>38</th>\n",
       "      <td>1.606197</td>\n",
       "      <td>0.054349</td>\n",
       "      <td>-0.895947</td>\n",
       "    </tr>\n",
       "    <tr>\n",
       "      <th>39</th>\n",
       "      <td>0.522775</td>\n",
       "      <td>-0.032057</td>\n",
       "      <td>2.458231</td>\n",
       "    </tr>\n",
       "    <tr>\n",
       "      <th>41</th>\n",
       "      <td>1.484359</td>\n",
       "      <td>-1.162718</td>\n",
       "      <td>-0.925127</td>\n",
       "    </tr>\n",
       "    <tr>\n",
       "      <th>42</th>\n",
       "      <td>0.529091</td>\n",
       "      <td>-0.450351</td>\n",
       "      <td>0.285032</td>\n",
       "    </tr>\n",
       "    <tr>\n",
       "      <th>44</th>\n",
       "      <td>0.521272</td>\n",
       "      <td>-1.146217</td>\n",
       "      <td>-1.171847</td>\n",
       "    </tr>\n",
       "    <tr>\n",
       "      <th>48</th>\n",
       "      <td>1.771997</td>\n",
       "      <td>1.809406</td>\n",
       "      <td>0.222989</td>\n",
       "    </tr>\n",
       "    <tr>\n",
       "      <th>52</th>\n",
       "      <td>1.387319</td>\n",
       "      <td>-1.272939</td>\n",
       "      <td>-0.410238</td>\n",
       "    </tr>\n",
       "    <tr>\n",
       "      <th>54</th>\n",
       "      <td>0.459770</td>\n",
       "      <td>-1.434894</td>\n",
       "      <td>-1.615220</td>\n",
       "    </tr>\n",
       "    <tr>\n",
       "      <th>55</th>\n",
       "      <td>0.514132</td>\n",
       "      <td>1.799619</td>\n",
       "      <td>-0.359944</td>\n",
       "    </tr>\n",
       "    <tr>\n",
       "      <th>56</th>\n",
       "      <td>0.351688</td>\n",
       "      <td>-0.324556</td>\n",
       "      <td>-0.970110</td>\n",
       "    </tr>\n",
       "    <tr>\n",
       "      <th>...</th>\n",
       "      <td>...</td>\n",
       "      <td>...</td>\n",
       "      <td>...</td>\n",
       "    </tr>\n",
       "    <tr>\n",
       "      <th>39946</th>\n",
       "      <td>0.324085</td>\n",
       "      <td>0.338391</td>\n",
       "      <td>2.510657</td>\n",
       "    </tr>\n",
       "    <tr>\n",
       "      <th>39947</th>\n",
       "      <td>1.511588</td>\n",
       "      <td>-0.501413</td>\n",
       "      <td>-1.751615</td>\n",
       "    </tr>\n",
       "    <tr>\n",
       "      <th>39948</th>\n",
       "      <td>0.529352</td>\n",
       "      <td>2.158112</td>\n",
       "      <td>-1.720437</td>\n",
       "    </tr>\n",
       "    <tr>\n",
       "      <th>39950</th>\n",
       "      <td>1.645290</td>\n",
       "      <td>2.052637</td>\n",
       "      <td>-0.117622</td>\n",
       "    </tr>\n",
       "    <tr>\n",
       "      <th>39951</th>\n",
       "      <td>0.129048</td>\n",
       "      <td>1.776331</td>\n",
       "      <td>-2.047641</td>\n",
       "    </tr>\n",
       "    <tr>\n",
       "      <th>39952</th>\n",
       "      <td>0.164088</td>\n",
       "      <td>0.291411</td>\n",
       "      <td>-0.913391</td>\n",
       "    </tr>\n",
       "    <tr>\n",
       "      <th>39957</th>\n",
       "      <td>0.575398</td>\n",
       "      <td>0.053322</td>\n",
       "      <td>1.016370</td>\n",
       "    </tr>\n",
       "    <tr>\n",
       "      <th>39959</th>\n",
       "      <td>0.573770</td>\n",
       "      <td>-0.097803</td>\n",
       "      <td>0.658898</td>\n",
       "    </tr>\n",
       "    <tr>\n",
       "      <th>39960</th>\n",
       "      <td>1.035528</td>\n",
       "      <td>0.994792</td>\n",
       "      <td>0.913468</td>\n",
       "    </tr>\n",
       "    <tr>\n",
       "      <th>39963</th>\n",
       "      <td>0.169076</td>\n",
       "      <td>0.677418</td>\n",
       "      <td>0.893961</td>\n",
       "    </tr>\n",
       "    <tr>\n",
       "      <th>39964</th>\n",
       "      <td>0.284094</td>\n",
       "      <td>-0.268236</td>\n",
       "      <td>0.909698</td>\n",
       "    </tr>\n",
       "    <tr>\n",
       "      <th>39965</th>\n",
       "      <td>2.081574</td>\n",
       "      <td>0.069045</td>\n",
       "      <td>0.779175</td>\n",
       "    </tr>\n",
       "    <tr>\n",
       "      <th>39966</th>\n",
       "      <td>0.284660</td>\n",
       "      <td>1.103755</td>\n",
       "      <td>1.376417</td>\n",
       "    </tr>\n",
       "    <tr>\n",
       "      <th>39967</th>\n",
       "      <td>0.349215</td>\n",
       "      <td>2.153035</td>\n",
       "      <td>-0.266251</td>\n",
       "    </tr>\n",
       "    <tr>\n",
       "      <th>39968</th>\n",
       "      <td>1.002105</td>\n",
       "      <td>0.698981</td>\n",
       "      <td>0.952964</td>\n",
       "    </tr>\n",
       "    <tr>\n",
       "      <th>39969</th>\n",
       "      <td>0.789976</td>\n",
       "      <td>-1.174917</td>\n",
       "      <td>1.349267</td>\n",
       "    </tr>\n",
       "    <tr>\n",
       "      <th>39971</th>\n",
       "      <td>0.269733</td>\n",
       "      <td>0.981389</td>\n",
       "      <td>-1.387002</td>\n",
       "    </tr>\n",
       "    <tr>\n",
       "      <th>39974</th>\n",
       "      <td>1.032579</td>\n",
       "      <td>-1.109924</td>\n",
       "      <td>0.280917</td>\n",
       "    </tr>\n",
       "    <tr>\n",
       "      <th>39976</th>\n",
       "      <td>0.207427</td>\n",
       "      <td>1.358044</td>\n",
       "      <td>0.379350</td>\n",
       "    </tr>\n",
       "    <tr>\n",
       "      <th>39977</th>\n",
       "      <td>0.628915</td>\n",
       "      <td>1.000786</td>\n",
       "      <td>-0.973805</td>\n",
       "    </tr>\n",
       "    <tr>\n",
       "      <th>39978</th>\n",
       "      <td>1.413379</td>\n",
       "      <td>-0.818787</td>\n",
       "      <td>-1.131943</td>\n",
       "    </tr>\n",
       "    <tr>\n",
       "      <th>39980</th>\n",
       "      <td>1.038840</td>\n",
       "      <td>-0.969932</td>\n",
       "      <td>-0.006690</td>\n",
       "    </tr>\n",
       "    <tr>\n",
       "      <th>39982</th>\n",
       "      <td>2.031857</td>\n",
       "      <td>0.958451</td>\n",
       "      <td>-0.650630</td>\n",
       "    </tr>\n",
       "    <tr>\n",
       "      <th>39983</th>\n",
       "      <td>0.758319</td>\n",
       "      <td>1.876807</td>\n",
       "      <td>-0.849743</td>\n",
       "    </tr>\n",
       "    <tr>\n",
       "      <th>39986</th>\n",
       "      <td>1.278225</td>\n",
       "      <td>1.803203</td>\n",
       "      <td>0.986549</td>\n",
       "    </tr>\n",
       "    <tr>\n",
       "      <th>39987</th>\n",
       "      <td>1.164210</td>\n",
       "      <td>-0.450140</td>\n",
       "      <td>-0.025706</td>\n",
       "    </tr>\n",
       "    <tr>\n",
       "      <th>39988</th>\n",
       "      <td>1.547817</td>\n",
       "      <td>1.150490</td>\n",
       "      <td>1.350094</td>\n",
       "    </tr>\n",
       "    <tr>\n",
       "      <th>39990</th>\n",
       "      <td>0.293618</td>\n",
       "      <td>-1.602094</td>\n",
       "      <td>-0.086564</td>\n",
       "    </tr>\n",
       "    <tr>\n",
       "      <th>39998</th>\n",
       "      <td>1.579768</td>\n",
       "      <td>1.864119</td>\n",
       "      <td>0.497160</td>\n",
       "    </tr>\n",
       "    <tr>\n",
       "      <th>39999</th>\n",
       "      <td>0.403558</td>\n",
       "      <td>0.481043</td>\n",
       "      <td>-0.195300</td>\n",
       "    </tr>\n",
       "  </tbody>\n",
       "</table>\n",
       "<p>20066 rows × 3 columns</p>\n",
       "</div>"
      ],
      "text/plain": [
       "              x         y         z\n",
       "2      1.293490  1.876842  0.842202\n",
       "5      0.849294  0.359905  0.651790\n",
       "6      1.857685 -1.594209 -0.343060\n",
       "8      1.139232 -0.603423 -0.856033\n",
       "10     0.927639 -0.617204 -0.746339\n",
       "11     0.201558  1.833803 -1.576334\n",
       "12     2.829300  1.644372 -1.854723\n",
       "13     0.465538 -0.473864  0.352223\n",
       "14     0.122849  0.824778 -0.059689\n",
       "15     1.113508 -0.367530  0.102336\n",
       "16     1.287404  0.085880  0.133792\n",
       "17     0.004682 -0.635306  1.025531\n",
       "21     0.936515  0.769322 -0.209889\n",
       "22     1.738871  0.081341  0.586416\n",
       "26     0.176420 -1.238691  1.103182\n",
       "28     1.058585 -0.490137  1.804150\n",
       "29     1.303655  0.586163  0.784869\n",
       "31     0.307561  0.556297  1.625855\n",
       "36     0.038709  0.368440 -1.738358\n",
       "37     0.075102 -1.130843 -0.020238\n",
       "38     1.606197  0.054349 -0.895947\n",
       "39     0.522775 -0.032057  2.458231\n",
       "41     1.484359 -1.162718 -0.925127\n",
       "42     0.529091 -0.450351  0.285032\n",
       "44     0.521272 -1.146217 -1.171847\n",
       "48     1.771997  1.809406  0.222989\n",
       "52     1.387319 -1.272939 -0.410238\n",
       "54     0.459770 -1.434894 -1.615220\n",
       "55     0.514132  1.799619 -0.359944\n",
       "56     0.351688 -0.324556 -0.970110\n",
       "...         ...       ...       ...\n",
       "39946  0.324085  0.338391  2.510657\n",
       "39947  1.511588 -0.501413 -1.751615\n",
       "39948  0.529352  2.158112 -1.720437\n",
       "39950  1.645290  2.052637 -0.117622\n",
       "39951  0.129048  1.776331 -2.047641\n",
       "39952  0.164088  0.291411 -0.913391\n",
       "39957  0.575398  0.053322  1.016370\n",
       "39959  0.573770 -0.097803  0.658898\n",
       "39960  1.035528  0.994792  0.913468\n",
       "39963  0.169076  0.677418  0.893961\n",
       "39964  0.284094 -0.268236  0.909698\n",
       "39965  2.081574  0.069045  0.779175\n",
       "39966  0.284660  1.103755  1.376417\n",
       "39967  0.349215  2.153035 -0.266251\n",
       "39968  1.002105  0.698981  0.952964\n",
       "39969  0.789976 -1.174917  1.349267\n",
       "39971  0.269733  0.981389 -1.387002\n",
       "39974  1.032579 -1.109924  0.280917\n",
       "39976  0.207427  1.358044  0.379350\n",
       "39977  0.628915  1.000786 -0.973805\n",
       "39978  1.413379 -0.818787 -1.131943\n",
       "39980  1.038840 -0.969932 -0.006690\n",
       "39982  2.031857  0.958451 -0.650630\n",
       "39983  0.758319  1.876807 -0.849743\n",
       "39986  1.278225  1.803203  0.986549\n",
       "39987  1.164210 -0.450140 -0.025706\n",
       "39988  1.547817  1.150490  1.350094\n",
       "39990  0.293618 -1.602094 -0.086564\n",
       "39998  1.579768  1.864119  0.497160\n",
       "39999  0.403558  0.481043 -0.195300\n",
       "\n",
       "[20066 rows x 3 columns]"
      ]
     },
     "execution_count": 13,
     "metadata": {},
     "output_type": "execute_result"
    }
   ],
   "source": [
    "df_positions.loc[df_positions['x']>0]"
   ]
  },
  {
   "cell_type": "markdown",
   "metadata": {},
   "source": [
    "This is a nice feature that we won't use much for something simple like just looking at displacements, but becomes more functional with more complicated analysis. Now let's see how our displacement code that we just wrote compares now that we are using a dataframe."
   ]
  },
  {
   "cell_type": "code",
   "execution_count": 14,
   "metadata": {},
   "outputs": [
    {
     "ename": "TypeError",
     "evalue": "unsupported operand type(s) for ** or pow(): 'str' and 'int'",
     "output_type": "error",
     "traceback": [
      "\u001b[0;31m---------------------------------------------------------------------------\u001b[0m",
      "\u001b[0;31mTypeError\u001b[0m                                 Traceback (most recent call last)",
      "\u001b[0;32m<ipython-input-14-2c81e7fcc09b>\u001b[0m in \u001b[0;36m<module>\u001b[0;34m\u001b[0m\n\u001b[0;32m----> 1\u001b[0;31m \u001b[0mmag_5\u001b[0m \u001b[0;34m=\u001b[0m \u001b[0mget_ipython\u001b[0m\u001b[0;34m(\u001b[0m\u001b[0;34m)\u001b[0m\u001b[0;34m.\u001b[0m\u001b[0mrun_line_magic\u001b[0m\u001b[0;34m(\u001b[0m\u001b[0;34m'timeit'\u001b[0m\u001b[0;34m,\u001b[0m \u001b[0;34m'disp_lists_listcomp_2(df_positions);'\u001b[0m\u001b[0;34m)\u001b[0m\u001b[0;34m\u001b[0m\u001b[0;34m\u001b[0m\u001b[0m\n\u001b[0m",
      "\u001b[0;32m~/anaconda3/lib/python3.6/site-packages/IPython/core/interactiveshell.py\u001b[0m in \u001b[0;36mrun_line_magic\u001b[0;34m(self, magic_name, line, _stack_depth)\u001b[0m\n\u001b[1;32m   2305\u001b[0m                 \u001b[0mkwargs\u001b[0m\u001b[0;34m[\u001b[0m\u001b[0;34m'local_ns'\u001b[0m\u001b[0;34m]\u001b[0m \u001b[0;34m=\u001b[0m \u001b[0msys\u001b[0m\u001b[0;34m.\u001b[0m\u001b[0m_getframe\u001b[0m\u001b[0;34m(\u001b[0m\u001b[0mstack_depth\u001b[0m\u001b[0;34m)\u001b[0m\u001b[0;34m.\u001b[0m\u001b[0mf_locals\u001b[0m\u001b[0;34m\u001b[0m\u001b[0;34m\u001b[0m\u001b[0m\n\u001b[1;32m   2306\u001b[0m             \u001b[0;32mwith\u001b[0m \u001b[0mself\u001b[0m\u001b[0;34m.\u001b[0m\u001b[0mbuiltin_trap\u001b[0m\u001b[0;34m:\u001b[0m\u001b[0;34m\u001b[0m\u001b[0;34m\u001b[0m\u001b[0m\n\u001b[0;32m-> 2307\u001b[0;31m                 \u001b[0mresult\u001b[0m \u001b[0;34m=\u001b[0m \u001b[0mfn\u001b[0m\u001b[0;34m(\u001b[0m\u001b[0;34m*\u001b[0m\u001b[0margs\u001b[0m\u001b[0;34m,\u001b[0m \u001b[0;34m**\u001b[0m\u001b[0mkwargs\u001b[0m\u001b[0;34m)\u001b[0m\u001b[0;34m\u001b[0m\u001b[0;34m\u001b[0m\u001b[0m\n\u001b[0m\u001b[1;32m   2308\u001b[0m             \u001b[0;32mreturn\u001b[0m \u001b[0mresult\u001b[0m\u001b[0;34m\u001b[0m\u001b[0;34m\u001b[0m\u001b[0m\n\u001b[1;32m   2309\u001b[0m \u001b[0;34m\u001b[0m\u001b[0m\n",
      "\u001b[0;32m</home/austin/anaconda3/lib/python3.6/site-packages/decorator.py:decorator-gen-60>\u001b[0m in \u001b[0;36mtimeit\u001b[0;34m(self, line, cell, local_ns)\u001b[0m\n",
      "\u001b[0;32m~/anaconda3/lib/python3.6/site-packages/IPython/core/magic.py\u001b[0m in \u001b[0;36m<lambda>\u001b[0;34m(f, *a, **k)\u001b[0m\n\u001b[1;32m    185\u001b[0m     \u001b[0;31m# but it's overkill for just that one bit of state.\u001b[0m\u001b[0;34m\u001b[0m\u001b[0;34m\u001b[0m\u001b[0;34m\u001b[0m\u001b[0m\n\u001b[1;32m    186\u001b[0m     \u001b[0;32mdef\u001b[0m \u001b[0mmagic_deco\u001b[0m\u001b[0;34m(\u001b[0m\u001b[0marg\u001b[0m\u001b[0;34m)\u001b[0m\u001b[0;34m:\u001b[0m\u001b[0;34m\u001b[0m\u001b[0;34m\u001b[0m\u001b[0m\n\u001b[0;32m--> 187\u001b[0;31m         \u001b[0mcall\u001b[0m \u001b[0;34m=\u001b[0m \u001b[0;32mlambda\u001b[0m \u001b[0mf\u001b[0m\u001b[0;34m,\u001b[0m \u001b[0;34m*\u001b[0m\u001b[0ma\u001b[0m\u001b[0;34m,\u001b[0m \u001b[0;34m**\u001b[0m\u001b[0mk\u001b[0m\u001b[0;34m:\u001b[0m \u001b[0mf\u001b[0m\u001b[0;34m(\u001b[0m\u001b[0;34m*\u001b[0m\u001b[0ma\u001b[0m\u001b[0;34m,\u001b[0m \u001b[0;34m**\u001b[0m\u001b[0mk\u001b[0m\u001b[0;34m)\u001b[0m\u001b[0;34m\u001b[0m\u001b[0;34m\u001b[0m\u001b[0m\n\u001b[0m\u001b[1;32m    188\u001b[0m \u001b[0;34m\u001b[0m\u001b[0m\n\u001b[1;32m    189\u001b[0m         \u001b[0;32mif\u001b[0m \u001b[0mcallable\u001b[0m\u001b[0;34m(\u001b[0m\u001b[0marg\u001b[0m\u001b[0;34m)\u001b[0m\u001b[0;34m:\u001b[0m\u001b[0;34m\u001b[0m\u001b[0;34m\u001b[0m\u001b[0m\n",
      "\u001b[0;32m~/anaconda3/lib/python3.6/site-packages/IPython/core/magics/execution.py\u001b[0m in \u001b[0;36mtimeit\u001b[0;34m(self, line, cell, local_ns)\u001b[0m\n\u001b[1;32m   1145\u001b[0m             \u001b[0;32mfor\u001b[0m \u001b[0mindex\u001b[0m \u001b[0;32min\u001b[0m \u001b[0mrange\u001b[0m\u001b[0;34m(\u001b[0m\u001b[0;36m0\u001b[0m\u001b[0;34m,\u001b[0m \u001b[0;36m10\u001b[0m\u001b[0;34m)\u001b[0m\u001b[0;34m:\u001b[0m\u001b[0;34m\u001b[0m\u001b[0;34m\u001b[0m\u001b[0m\n\u001b[1;32m   1146\u001b[0m                 \u001b[0mnumber\u001b[0m \u001b[0;34m=\u001b[0m \u001b[0;36m10\u001b[0m \u001b[0;34m**\u001b[0m \u001b[0mindex\u001b[0m\u001b[0;34m\u001b[0m\u001b[0;34m\u001b[0m\u001b[0m\n\u001b[0;32m-> 1147\u001b[0;31m                 \u001b[0mtime_number\u001b[0m \u001b[0;34m=\u001b[0m \u001b[0mtimer\u001b[0m\u001b[0;34m.\u001b[0m\u001b[0mtimeit\u001b[0m\u001b[0;34m(\u001b[0m\u001b[0mnumber\u001b[0m\u001b[0;34m)\u001b[0m\u001b[0;34m\u001b[0m\u001b[0;34m\u001b[0m\u001b[0m\n\u001b[0m\u001b[1;32m   1148\u001b[0m                 \u001b[0;32mif\u001b[0m \u001b[0mtime_number\u001b[0m \u001b[0;34m>=\u001b[0m \u001b[0;36m0.2\u001b[0m\u001b[0;34m:\u001b[0m\u001b[0;34m\u001b[0m\u001b[0;34m\u001b[0m\u001b[0m\n\u001b[1;32m   1149\u001b[0m                     \u001b[0;32mbreak\u001b[0m\u001b[0;34m\u001b[0m\u001b[0;34m\u001b[0m\u001b[0m\n",
      "\u001b[0;32m~/anaconda3/lib/python3.6/site-packages/IPython/core/magics/execution.py\u001b[0m in \u001b[0;36mtimeit\u001b[0;34m(self, number)\u001b[0m\n\u001b[1;32m    159\u001b[0m         \u001b[0mgc\u001b[0m\u001b[0;34m.\u001b[0m\u001b[0mdisable\u001b[0m\u001b[0;34m(\u001b[0m\u001b[0;34m)\u001b[0m\u001b[0;34m\u001b[0m\u001b[0;34m\u001b[0m\u001b[0m\n\u001b[1;32m    160\u001b[0m         \u001b[0;32mtry\u001b[0m\u001b[0;34m:\u001b[0m\u001b[0;34m\u001b[0m\u001b[0;34m\u001b[0m\u001b[0m\n\u001b[0;32m--> 161\u001b[0;31m             \u001b[0mtiming\u001b[0m \u001b[0;34m=\u001b[0m \u001b[0mself\u001b[0m\u001b[0;34m.\u001b[0m\u001b[0minner\u001b[0m\u001b[0;34m(\u001b[0m\u001b[0mit\u001b[0m\u001b[0;34m,\u001b[0m \u001b[0mself\u001b[0m\u001b[0;34m.\u001b[0m\u001b[0mtimer\u001b[0m\u001b[0;34m)\u001b[0m\u001b[0;34m\u001b[0m\u001b[0;34m\u001b[0m\u001b[0m\n\u001b[0m\u001b[1;32m    162\u001b[0m         \u001b[0;32mfinally\u001b[0m\u001b[0;34m:\u001b[0m\u001b[0;34m\u001b[0m\u001b[0;34m\u001b[0m\u001b[0m\n\u001b[1;32m    163\u001b[0m             \u001b[0;32mif\u001b[0m \u001b[0mgcold\u001b[0m\u001b[0;34m:\u001b[0m\u001b[0;34m\u001b[0m\u001b[0;34m\u001b[0m\u001b[0m\n",
      "\u001b[0;32m<magic-timeit>\u001b[0m in \u001b[0;36minner\u001b[0;34m(_it, _timer)\u001b[0m\n",
      "\u001b[0;32m<ipython-input-9-9f1e8a2c95ab>\u001b[0m in \u001b[0;36mdisp_lists_listcomp_2\u001b[0;34m(positions)\u001b[0m\n\u001b[1;32m      1\u001b[0m \u001b[0;32mdef\u001b[0m \u001b[0mdisp_lists_listcomp_2\u001b[0m\u001b[0;34m(\u001b[0m\u001b[0mpositions\u001b[0m\u001b[0;34m)\u001b[0m\u001b[0;34m:\u001b[0m\u001b[0;34m\u001b[0m\u001b[0;34m\u001b[0m\u001b[0m\n\u001b[0;32m----> 2\u001b[0;31m     \u001b[0mmag\u001b[0m \u001b[0;34m=\u001b[0m \u001b[0;34m[\u001b[0m\u001b[0mnp\u001b[0m\u001b[0;34m.\u001b[0m\u001b[0msqrt\u001b[0m\u001b[0;34m(\u001b[0m\u001b[0msum\u001b[0m\u001b[0;34m(\u001b[0m\u001b[0;34m[\u001b[0m\u001b[0mj\u001b[0m\u001b[0;34m**\u001b[0m\u001b[0;36m2\u001b[0m \u001b[0;32mfor\u001b[0m \u001b[0mj\u001b[0m \u001b[0;32min\u001b[0m \u001b[0mposition\u001b[0m\u001b[0;34m]\u001b[0m\u001b[0;34m)\u001b[0m\u001b[0;34m)\u001b[0m \u001b[0;32mfor\u001b[0m \u001b[0mposition\u001b[0m \u001b[0;32min\u001b[0m \u001b[0mpositions\u001b[0m\u001b[0;34m]\u001b[0m\u001b[0;34m\u001b[0m\u001b[0;34m\u001b[0m\u001b[0m\n\u001b[0m\u001b[1;32m      3\u001b[0m     \u001b[0;32mreturn\u001b[0m \u001b[0mmag\u001b[0m\u001b[0;34m\u001b[0m\u001b[0;34m\u001b[0m\u001b[0m\n",
      "\u001b[0;32m<ipython-input-9-9f1e8a2c95ab>\u001b[0m in \u001b[0;36m<listcomp>\u001b[0;34m(.0)\u001b[0m\n\u001b[1;32m      1\u001b[0m \u001b[0;32mdef\u001b[0m \u001b[0mdisp_lists_listcomp_2\u001b[0m\u001b[0;34m(\u001b[0m\u001b[0mpositions\u001b[0m\u001b[0;34m)\u001b[0m\u001b[0;34m:\u001b[0m\u001b[0;34m\u001b[0m\u001b[0;34m\u001b[0m\u001b[0m\n\u001b[0;32m----> 2\u001b[0;31m     \u001b[0mmag\u001b[0m \u001b[0;34m=\u001b[0m \u001b[0;34m[\u001b[0m\u001b[0mnp\u001b[0m\u001b[0;34m.\u001b[0m\u001b[0msqrt\u001b[0m\u001b[0;34m(\u001b[0m\u001b[0msum\u001b[0m\u001b[0;34m(\u001b[0m\u001b[0;34m[\u001b[0m\u001b[0mj\u001b[0m\u001b[0;34m**\u001b[0m\u001b[0;36m2\u001b[0m \u001b[0;32mfor\u001b[0m \u001b[0mj\u001b[0m \u001b[0;32min\u001b[0m \u001b[0mposition\u001b[0m\u001b[0;34m]\u001b[0m\u001b[0;34m)\u001b[0m\u001b[0;34m)\u001b[0m \u001b[0;32mfor\u001b[0m \u001b[0mposition\u001b[0m \u001b[0;32min\u001b[0m \u001b[0mpositions\u001b[0m\u001b[0;34m]\u001b[0m\u001b[0;34m\u001b[0m\u001b[0;34m\u001b[0m\u001b[0m\n\u001b[0m\u001b[1;32m      3\u001b[0m     \u001b[0;32mreturn\u001b[0m \u001b[0mmag\u001b[0m\u001b[0;34m\u001b[0m\u001b[0;34m\u001b[0m\u001b[0m\n",
      "\u001b[0;32m<ipython-input-9-9f1e8a2c95ab>\u001b[0m in \u001b[0;36m<listcomp>\u001b[0;34m(.0)\u001b[0m\n\u001b[1;32m      1\u001b[0m \u001b[0;32mdef\u001b[0m \u001b[0mdisp_lists_listcomp_2\u001b[0m\u001b[0;34m(\u001b[0m\u001b[0mpositions\u001b[0m\u001b[0;34m)\u001b[0m\u001b[0;34m:\u001b[0m\u001b[0;34m\u001b[0m\u001b[0;34m\u001b[0m\u001b[0m\n\u001b[0;32m----> 2\u001b[0;31m     \u001b[0mmag\u001b[0m \u001b[0;34m=\u001b[0m \u001b[0;34m[\u001b[0m\u001b[0mnp\u001b[0m\u001b[0;34m.\u001b[0m\u001b[0msqrt\u001b[0m\u001b[0;34m(\u001b[0m\u001b[0msum\u001b[0m\u001b[0;34m(\u001b[0m\u001b[0;34m[\u001b[0m\u001b[0mj\u001b[0m\u001b[0;34m**\u001b[0m\u001b[0;36m2\u001b[0m \u001b[0;32mfor\u001b[0m \u001b[0mj\u001b[0m \u001b[0;32min\u001b[0m \u001b[0mposition\u001b[0m\u001b[0;34m]\u001b[0m\u001b[0;34m)\u001b[0m\u001b[0;34m)\u001b[0m \u001b[0;32mfor\u001b[0m \u001b[0mposition\u001b[0m \u001b[0;32min\u001b[0m \u001b[0mpositions\u001b[0m\u001b[0;34m]\u001b[0m\u001b[0;34m\u001b[0m\u001b[0;34m\u001b[0m\u001b[0m\n\u001b[0m\u001b[1;32m      3\u001b[0m     \u001b[0;32mreturn\u001b[0m \u001b[0mmag\u001b[0m\u001b[0;34m\u001b[0m\u001b[0;34m\u001b[0m\u001b[0m\n",
      "\u001b[0;31mTypeError\u001b[0m: unsupported operand type(s) for ** or pow(): 'str' and 'int'"
     ]
    }
   ],
   "source": [
    "mag_5 = %timeit disp_lists_listcomp_2(df_positions);"
   ]
  },
  {
   "cell_type": "markdown",
   "metadata": {},
   "source": [
    "Oh no! We need to tweak our function a bit to work with DataFrame types. DataFrames query through columns first. That means we have to iterate through "
   ]
  },
  {
   "cell_type": "code",
   "execution_count": 17,
   "metadata": {},
   "outputs": [],
   "source": [
    "def disp_df_listcomp(positions):\n",
    "    mag = [np.sqrt(sum([position[j]**2 for j in positions.columns])) for index,position in positions.iterrows()]\n",
    "    return mag"
   ]
  },
  {
   "cell_type": "code",
   "execution_count": 18,
   "metadata": {},
   "outputs": [
    {
     "name": "stdout",
     "output_type": "stream",
     "text": [
      "2.74 s ± 27.3 ms per loop (mean ± std. dev. of 7 runs, 1 loop each)\n"
     ]
    }
   ],
   "source": [
    "mag_5 = %timeit disp_df_listcomp(df_positions);"
   ]
  },
  {
   "cell_type": "markdown",
   "metadata": {},
   "source": [
    "That takes quite a bit longer than our simple list example! This is because we have traded the convenience of a searchable object for the cost of overhead. It simply takes longer to move through the object because it has a more complicated structure. \n",
    "\n",
    "Fortunately we can utilize <font color=blue> numpy </font> and the array datatype to speed up the calculation."
   ]
  },
  {
   "cell_type": "code",
   "execution_count": 19,
   "metadata": {},
   "outputs": [],
   "source": [
    "def disp_df_vectors(positions):\n",
    "    mag = np.sqrt(np.sum(positions.values**2,axis=1))\n",
    "    return mag"
   ]
  },
  {
   "cell_type": "code",
   "execution_count": 20,
   "metadata": {},
   "outputs": [
    {
     "name": "stdout",
     "output_type": "stream",
     "text": [
      "119 µs ± 1.5 µs per loop (mean ± std. dev. of 7 runs, 10000 loops each)\n"
     ]
    }
   ],
   "source": [
    "mag_7 = %timeit disp_df_vectors(df_positions);"
   ]
  },
  {
   "cell_type": "markdown",
   "metadata": {},
   "source": [
    "That is the fastest we have seen yet! By using the `values` property of our DataFrame, we have a large numpy array. Because it is an array we can do vectorized calculations that neglect the need for the loops that we previously had. \n",
    "\n",
    "This means that we are able to have our searchable cake and eat it too! \n",
    "\n",
    "The benefits of vectorization can be even more dramatic if we are performing our calculation are very large datasets.\n",
    "\n",
    "This concludes the \"quick\" fixes to slow code. Now we will turn our attention to the use of parallelization in our code!\n",
    "\n",
    "## <font color=lightblue>**Pro Tip:**</font> \n",
    "You should always strive to optimize your code as much as possible before turning towards hardware acceleration. This will do more for you in the long-term and will enfore good programming habits!"
   ]
  },
  {
   "cell_type": "markdown",
   "metadata": {},
   "source": [
    "# CPU Parallelization\n",
    "\n",
    "We have seen how syntax changes have caused speed ups, but sometimes that just isn't enough. It is also useful to know how to write code that is parallelizable. I will focus on how to parallelize analysis code written in Python. \n",
    "\n",
    "Let's focus on the package <font color=blue> multiprocessing </font>. To effectively use multiprocessing we need to write a helper function that performs the desired calculation on each CPU node. \n",
    "\n",
    "<font color=red>**NOTE:**</font> Multiprocessing can replace loops, but only when one iteration of the loop does not depend on another!\n",
    "\n",
    "Let's try using multiprocessing on our displacement example from above."
   ]
  },
  {
   "cell_type": "code",
   "execution_count": 21,
   "metadata": {},
   "outputs": [],
   "source": [
    "from multiprocessing import Pool\n",
    "\n",
    "def disp_helper(pos):\n",
    "    return np.sqrt(sum([p**2 for p in pos]))\n",
    "\n",
    "def disp_multi(positions,n_cores=1):\n",
    "    with Pool(processes=n_cores) as p:\n",
    "        mag = p.map(disp_helper, positions)\n",
    "    return mag"
   ]
  },
  {
   "cell_type": "code",
   "execution_count": 22,
   "metadata": {},
   "outputs": [
    {
     "name": "stdout",
     "output_type": "stream",
     "text": [
      "108 ms ± 258 µs per loop (mean ± std. dev. of 7 runs, 10 loops each)\n",
      "113 ms ± 605 µs per loop (mean ± std. dev. of 7 runs, 10 loops each)\n",
      "118 ms ± 831 µs per loop (mean ± std. dev. of 7 runs, 10 loops each)\n",
      "122 ms ± 591 µs per loop (mean ± std. dev. of 7 runs, 10 loops each)\n"
     ]
    }
   ],
   "source": [
    "mag_8 = %timeit disp_multi(positions,n_cores=2)\n",
    "mag_8 = %timeit disp_multi(positions,n_cores=4)\n",
    "mag_8 = %timeit disp_multi(positions,n_cores=6)\n",
    "mag_8 = %timeit disp_multi(positions,n_cores=8)"
   ]
  },
  {
   "cell_type": "markdown",
   "metadata": {},
   "source": [
    "What the heck is going on!? Our code is slowing down as we increase the number of cores we are using! \n",
    "\n",
    "If we dig deeper and look at how much each core is utilized you will see something interesting. In doing this my computer cores were only under ~10% load. Because the load is so small we actually waste more time in coordinating threads than we would spend doing the calculation. \n",
    "\n",
    "This is a good cautionary tale so we don't spend time multithreading everything that we write. Sometimes simpler is better!\n",
    "\n",
    "This of course will change when the calculations being performed in the loop are large or complicated and require more of the CPU resource. We really see the benefit of multithreading when a single CPU thread is working under full load."
   ]
  },
  {
   "cell_type": "markdown",
   "metadata": {},
   "source": [
    "# GPU programming in Python\n",
    "\n",
    "We just learned how to use our CPU to it's fullest potential by utilizing as many threads as possible to perform calculations (and when not to use it's full potential). Sometimes this can still be slow though. The reason being is that most modern computers only have 4-8 cores which translates into 8-16 threads. While this can provide substantial speed increases, we are often dealing with tens or hundreds of thousands of particles. If time-stepping is important then this number gets multiplied by the number of timesteps, which can easily result in another factor of 1000. When the scales are this big a x8-16 speed increase is definitely noticeable, but still isn't anything to write home about. \n",
    "\n",
    "That is where the GPU comes in! GPUs, unlike CPUs, have thousands of threads that can be used for multiprocessing. In this tutorial we will focus on Nvidia GPUs as these are the most common. Nvidia has a proprietary language known as [CUDA](https://docs.nvidia.com/cuda/), which allows you to interface with the GPU architecture. Since there are so many threads working in parallel, there is a more advanced hierarchy needed for getting them to coordinate and work together. \n",
    "\n",
    "Here we will focus on using CUDA in Python through the [numba](https://numba.pydata.org/) package. There is some overhead associated with this package as it is a wrapper, but it is much easier than writing CUDA code from scratch. If you wish to write direct CUDA code in C++, then please refer to the documentation above. For documentation related to installing numba for use with CUDA please refer to the page [here](http://numba.pydata.org/numba-doc/latest/cuda/index.html). \n",
    "\n",
    "<font color=blue>Numba</font> works like most Python packages, allows you to vectorize your code for faster CPU implementation or for GPU implementation through the use of decorators used in front of functions. For CUDA implementation we will use the `cuda.jit` decorator. "
   ]
  },
  {
   "cell_type": "code",
   "execution_count": 23,
   "metadata": {},
   "outputs": [],
   "source": [
    "from numba import cuda\n",
    "import math\n",
    "\n",
    "def disp_GPU(positions):\n",
    "    # Make sure our DF is a Numpy array\n",
    "    positions = positions.values\n",
    "    \n",
    "    # Initialize some CUDA kernel parameters\n",
    "    blocks_per_grid = 30\n",
    "    threads_per_block = 128\n",
    "    \n",
    "    # Initialize our output array\n",
    "    mag = np.zeros(len(positions))\n",
    "    \n",
    "    # Run GPU kernel\n",
    "    disp_GPU_calc[blocks_per_grid, threads_per_block](positions,mag)\n",
    "    \n",
    "    return mag\n",
    "\n",
    "@cuda.jit\n",
    "def disp_GPU_calc(positions, mag):\n",
    "    start = cuda.grid(1)\n",
    "    stride = cuda.gridsize(1)\n",
    "    for i in range(start,len(positions),stride):\n",
    "        mag[i] = math.sqrt(positions[i][0]**2 + positions[i][1]**2 + positions[i][2]**2)\n",
    "    "
   ]
  },
  {
   "cell_type": "code",
   "execution_count": 24,
   "metadata": {},
   "outputs": [
    {
     "name": "stdout",
     "output_type": "stream",
     "text": [
      "1.13 ms ± 180 µs per loop (mean ± std. dev. of 7 runs, 1 loop each)\n"
     ]
    }
   ],
   "source": [
    "mag_9 = %timeit disp_GPU(df_positions);"
   ]
  },
  {
   "cell_type": "markdown",
   "metadata": {},
   "source": [
    "That was pretty fast! But why was it slower than just our regular vectorized code? While the GPU is fast, there is a limiting step of communication between the CPU and GPU. That means that the more we can do on the GPU or 'device', the more dramatic our speed increase will be. If you write some GPU code and it doesn't quite seem fast enough, then see if you're calling anything that requires host-device communication. \n",
    "\n",
    "For our simple example we aren't quite doing any calculation that is complex enough to really benefit from the highly parallelized nature of the GPU. It doesn't take much complexity for this to win out over other methods though.\n",
    "\n",
    "Similarly to using loops, our GPU code can benefit from some simple syntax changes. Let's first look at the type of data we are using."
   ]
  },
  {
   "cell_type": "code",
   "execution_count": 25,
   "metadata": {},
   "outputs": [
    {
     "data": {
      "text/plain": [
       "dtype('float64')"
      ]
     },
     "execution_count": 25,
     "metadata": {},
     "output_type": "execute_result"
    }
   ],
   "source": [
    "df_positions.values.dtype"
   ]
  },
  {
   "cell_type": "markdown",
   "metadata": {},
   "source": [
    "Our numpy array has saved our values as 'float64'. These are fairly large values to store and can give the GPU some trouble from a speed perspective. Also, most of the GPU functions or values will be written as 'float32', so we have already introduced 32-bit error. Let's change our numpy arrays all to float32 values."
   ]
  },
  {
   "cell_type": "code",
   "execution_count": 26,
   "metadata": {},
   "outputs": [],
   "source": [
    "def disp_GPU_32bit(positions):\n",
    "    # Make sure our DF is a Numpy array\n",
    "    positions = positions.values.astype(np.float32)\n",
    "    \n",
    "    # Initialize some CUDA kernel parameters\n",
    "    blocks_per_grid = 30\n",
    "    threads_per_block = 128\n",
    "    \n",
    "    # Initialize our output array\n",
    "    mag = np.zeros(len(positions), dtype=np.float32)\n",
    "    \n",
    "    # Run GPU kernel\n",
    "    disp_GPU_calc[blocks_per_grid, threads_per_block](positions,mag)\n",
    "    \n",
    "    return mag"
   ]
  },
  {
   "cell_type": "code",
   "execution_count": 27,
   "metadata": {},
   "outputs": [
    {
     "name": "stdout",
     "output_type": "stream",
     "text": [
      "758 µs ± 22.7 µs per loop (mean ± std. dev. of 7 runs, 1000 loops each)\n"
     ]
    }
   ],
   "source": [
    "mag_10 = %timeit disp_GPU_32bit(df_positions);"
   ]
  },
  {
   "cell_type": "markdown",
   "metadata": {},
   "source": [
    "From this we see that our code got faster by roughly 20%. We can do one more thing to speed the code up. We can actually turn our data to CUDA arrays before feeding it to the GPU. This allows the GPU interpreter to work more efficiently. "
   ]
  },
  {
   "cell_type": "code",
   "execution_count": 28,
   "metadata": {},
   "outputs": [],
   "source": [
    "def disp_GPU_cuda_vec(positions):\n",
    "    # Make sure our DF is a Numpy array\n",
    "    cud_positions = cuda.to_device(positions.values.astype(np.float32))\n",
    "    \n",
    "    # Initialize some CUDA kernel parameters\n",
    "    blocks_per_grid = 30\n",
    "    threads_per_block = 128\n",
    "    \n",
    "    # Initialize our output array\n",
    "    mag = cuda.to_device(np.zeros(positions.values.shape[0], dtype=np.float32))\n",
    "    \n",
    "    # Run GPU kernel\n",
    "    disp_GPU_calc[blocks_per_grid, threads_per_block](cud_positions,mag)\n",
    "    \n",
    "    mag = mag.copy_to_host()\n",
    "    \n",
    "    return mag"
   ]
  },
  {
   "cell_type": "code",
   "execution_count": 29,
   "metadata": {},
   "outputs": [
    {
     "name": "stdout",
     "output_type": "stream",
     "text": [
      "632 µs ± 5.68 µs per loop (mean ± std. dev. of 7 runs, 1000 loops each)\n"
     ]
    }
   ],
   "source": [
    "mag_11 = %timeit disp_GPU_cuda_vec(df_positions);"
   ]
  },
  {
   "cell_type": "markdown",
   "metadata": {},
   "source": [
    "We got another ~20% speed increase! Now our GPU code is comparable to the vectorized code that we have, even for such a simple example. \n",
    "\n",
    "These kinds of speed boosts can be dramatic (see [HOOMD](https://hoomd-blue.readthedocs.io/en/stable/index.html) for a clear example of how GPUs can really change the game when it comes to computation).\n",
    "\n",
    "If you want more references and resources related to <font color=blue>numba</font> please checkout the [GTC 2017](https://github.com/ContinuumIO/gtc2017-numba) github for jupyter notebooks that you can work through."
   ]
  },
  {
   "cell_type": "markdown",
   "metadata": {},
   "source": [
    "Written by: adulaney"
   ]
  }
 ],
 "metadata": {
  "kernelspec": {
   "display_name": "Python 3",
   "language": "python",
   "name": "python3"
  },
  "language_info": {
   "codemirror_mode": {
    "name": "ipython",
    "version": 3
   },
   "file_extension": ".py",
   "mimetype": "text/x-python",
   "name": "python",
   "nbconvert_exporter": "python",
   "pygments_lexer": "ipython3",
   "version": "3.6.8"
  }
 },
 "nbformat": 4,
 "nbformat_minor": 4
}
