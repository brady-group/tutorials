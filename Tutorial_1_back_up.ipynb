{
 "cells": [
  {
   "cell_type": "markdown",
   "metadata": {},
   "source": [
    "# Version control and back up with GitHub"
   ]
  },
  {
   "cell_type": "markdown",
   "metadata": {},
   "source": [
    "Git is a version control system that keeps track of changes to your code and serves as a backup should anything happen to your computer. It is also a service that allows multiple users to work on the same project at the same time. Fun fact, Git was created by Linus Torvald the developer of Linux.\n",
    "\n",
    "Using Git as a version control system allows communication with remote repositories such as GitHub or Bitbucket. Both services provide perks (a number of private repositories) if you sign up with a .edu email address. This tutorial will cover the use of Github.\n",
    "\n",
    "Repositories provide a way to keep your data safe and allow multiple users to simulataneously edit shared files whose changes will be merged later. If your repository is public it is a way to make your code readily available to others.\n",
    "\n",
    "Assuming you don't have a GitHub account you can set one up [here](https://github.com/)."
   ]
  },
  {
   "cell_type": "markdown",
   "metadata": {},
   "source": [
    "## Installing / Configuring Git"
   ]
  },
  {
   "cell_type": "markdown",
   "metadata": {},
   "source": [
    "Git can be installed on your system in a number of ways and depends on your OS.\n",
    "\n",
    "**Linux:**\n",
    "\n",
    "* Ubuntu:\n",
    "\n",
    "`sudo apt-get install git`\n",
    "\n",
    "* CentOS:\n",
    "\n",
    "`sudo yum install git`\n",
    "\n",
    "* Fedora\n",
    "\n",
    "`sudo yum install git-core`\n",
    "\n",
    "**Μac:**\n",
    "\n",
    "`brew install git`\n",
    "\n",
    "**Windows:**\n",
    "\n",
    "Download installer from the [Git](http://git-scm.com/downloads) website."
   ]
  },
  {
   "cell_type": "markdown",
   "metadata": {},
   "source": [
    "##  Cloning Repositories"
   ]
  },
  {
   "cell_type": "markdown",
   "metadata": {},
   "source": [
    "From your command line you can clone repositories found on Git. As an example lets clone the *insulter* package using:\n",
    "\n",
    "`git clone https://gist.github.com/3165396.git insulter`\n",
    "\n",
    "The insulter package is now in the directory where you ran the previous command from. You can cd into this directory and run the python package.\n",
    "\n",
    "In the above line of code \"*git clone*\" is the command, the URL can be copied from the repositories GitHub page  by pressing the \"Clone or download\" button, and the last word is the name of the directory that the repository will get cloned to."
   ]
  },
  {
   "cell_type": "markdown",
   "metadata": {},
   "source": [
    "## Creating / Adding to Repositories"
   ]
  },
  {
   "cell_type": "markdown",
   "metadata": {},
   "source": [
    "You can also create your own repositories to edit and distribute. Log into your Github account,  click the \"+\" icon in the upper right corner, and select \"New Repository\". \n",
    "\n",
    "In order to use the repository on your machine follow the steps listed above for cloning / downloading a repository.\n",
    "\n",
    "Any new files created in this folder will only exist locally until they are \"added\" to the repoitory. To see which files are locally up-to-date type:\n",
    "\n",
    "`git status`\n",
    "\n",
    "Any files that are not up-to-date  will appear in <font color='red'>red</font>. If there are new files you want tracked you should type\n",
    "\n",
    "`git add filename`\n",
    "\n",
    "for each file you want added. **NOTE**: The add command supports wildcard \"*\" characters that make adding more than one file at a time much easier assuming they have some common structure (i.e. \"git add *.py\" to add all python scripts).\n",
    "\n",
    "Next we need to commit the changes to the repository using the \"commit\" function. Commits should take the form \n",
    "\n",
    "`git commit -m \"Meaningful comment.\"`\n",
    "\n",
    "where the comment should help you recognize what has changed with this commit.\n",
    "\n",
    "Finally you need to **push** your changes to the desired branch of the repository. Using \n",
    "\n",
    "`git push origin master`\n",
    "\n",
    "where *origin* is the nickname of the remote repository (the one on your local machine) and *master* is the branch you are uploading files to. \n",
    "\n",
    "\n",
    "Anytime you use a remote repository you can always check to see if your version or \"branch\" is up-to-date with the main branch. To do this we would run `git status`. If your branch is out-of-date, then you can update it using the `git pull` command."
   ]
  },
  {
   "cell_type": "markdown",
   "metadata": {},
   "source": [
    "## More Resources\n",
    "\n",
    "In case you are interested in learning more about git, there is a good class on [codeacademy](https://www.codecademy.com/learn/learn-git)) that would be good if you want to delve into more advanced functionality."
   ]
  },
  {
   "cell_type": "code",
   "execution_count": null,
   "metadata": {},
   "outputs": [],
   "source": []
  }
 ],
 "metadata": {
  "kernelspec": {
   "display_name": "Python 3",
   "language": "python",
   "name": "python3"
  },
  "language_info": {
   "codemirror_mode": {
    "name": "ipython",
    "version": 3
   },
   "file_extension": ".py",
   "mimetype": "text/x-python",
   "name": "python",
   "nbconvert_exporter": "python",
   "pygments_lexer": "ipython3",
   "version": "3.6.8"
  }
 },
 "nbformat": 4,
 "nbformat_minor": 4
}
