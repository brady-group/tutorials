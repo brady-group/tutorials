{
 "cells": [
  {
   "cell_type": "markdown",
   "metadata": {},
   "source": [
    "# Visual Studio Code \n",
    "\n",
    "08/02/19"
   ]
  },
  {
   "cell_type": "markdown",
   "metadata": {},
   "source": [
    "[VS Code](https://code.visualstudio.com/) is a streamlined code editor with support for development operations like debugging, task running, and version control."
   ]
  },
  {
   "cell_type": "markdown",
   "metadata": {},
   "source": [
    "## Why VS Code?"
   ]
  },
  {
   "cell_type": "markdown",
   "metadata": {},
   "source": [
    "* VS Code is the most popular development environments in 2019 among professional developers according to Stack Overflow survey. [Stack Overflow](https://insights.stackoverflow.com/survey/2019)\n",
    "* open source, runs on Mac, Windows, Linux\n",
    "* AI-assisted development features\n",
    "* **Remote development via ssh**\n",
    "* lightweight, but has a debugger\n",
    "* tons of extensions to make your life easier\n",
    "* import your favorite key bindings from vim, Sublime, Atom, etc."
   ]
  },
  {
   "cell_type": "markdown",
   "metadata": {},
   "source": [
    "## Extensions\n",
    "* Enable customizing icons: [vscode-icons](https://marketplace.visualstudio.com/items?itemName=vscode-icons-team.vscode-icons)\n",
    "* Make your icons pretty: [file-icons](https://marketplace.visualstudio.com/items?itemName=file-icons.file-icons)\n",
    "* Python language extension: [Python](https://marketplace.visualstudio.com/items?itemName=ms-python.python)\n",
    "* AI-assisted development: [Visual Studio IntelliCode](https://marketplace.visualstudio.com/items?itemName=VisualStudioExptTeam.vscodeintellicode)\n",
    "* [C/C++](https://marketplace.visualstudio.com/items?itemName=ms-vscode.cpptools)\n",
    "* [C++ Intellisense](https://marketplace.visualstudio.com/items?itemName=austin.code-gnu-global)\n",
    "* [GitLens — Git supercharged](https://marketplace.visualstudio.com/items?itemName=eamodio.gitlens)\n",
    "* [Remote Development](https://marketplace.visualstudio.com/items?itemName=ms-vscode-remote.vscode-remote-extensionpack)\n",
    "* Syntax highlighting for cuda: [vscode-cudacpp](https://marketplace.visualstudio.com/items?itemName=kriegalex.vscode-cudacpp)\n"
   ]
  },
  {
   "cell_type": "markdown",
   "metadata": {},
   "source": [
    "## Command Pallete"
   ]
  },
  {
   "cell_type": "markdown",
   "metadata": {},
   "source": [
    "The Command Palette provides access to many commands. You can execute editor commands, open files, search for symbols, and see a quick outline of a file, all using the same interactive window. Key bindings might be different for you if you imported from other editors. Go to [VS Code UI](https://code.visualstudio.com/docs/getstarted/userinterface#_command-palette) for details.\n",
    "\n",
    "* cmd + P ( might be F1) launches the pallete \n",
    "* type in ? to show all actions you can take\n",
    "* type in @ symbol and then a function name will take you to the definition of that function.\n",
    "* type in > gives you all the settings to the editor and extensions\n",
    "* there are keyboard shortcuts for each of these actions, for example, cmd + shift +P lauches >, cmd +R lauches @\n",
    "\n",
    "Example: change icons (install the above extensions first)\n",
    "open the command pallete with >, then type color theme, a list of color themes will pop up as you type\n"
   ]
  },
  {
   "cell_type": "markdown",
   "metadata": {},
   "source": [
    "## Remote development\n",
    "\n",
    "First setup ssh access with keys to your remote machines.\n",
    "\n",
    "If you can ssh into your machine without a password, you can skip this.\n",
    "On your local machine, open up a terminal and generate ssh keys:\n",
    "```bash\n",
    "ssh-keygen\n",
    "```\n",
    "you can accept all the default settings, just hit enter.\n",
    "\n",
    "then copy your public key to the remote machine\n",
    "```bash\n",
    "ssh-copy-id -i ~/.ssh/id_rsa.pub user@host\n",
    "```\n",
    "You'll be asked for your password.\n",
    "\n",
    "\n",
    "At this stage you should be able to ssh into the remote machine without a password. Try ssh user@host to make sure it works.\n",
    "\n",
    "----------\n",
    "Next, setup a ssh config file. Create a file ~/.ssh/config if it doesn't exist.\n",
    "```bash\n",
    "touch ~/.ssh/config\n",
    "```\n",
    "If you ssh into your remote machine via ssh zhiwei@131.215.228.116, then you should add the following into the config file.\n",
    "\n",
    "---\n",
    "Host $(mydesktop)\n",
    "\n",
    "    HostName 131.215.228.116\n",
    "    \n",
    "    User zhiwei\n",
    "---\n",
    "$(mydesktop) should be replaced by whatever name you want to call your remote machine.\n"
   ]
  },
  {
   "cell_type": "markdown",
   "metadata": {},
   "source": [
    "On the VS Code side, you should install the remote development extension. After installation, you should see a >< symbol on the very left corner of your status bar. Click on this and select Remote-SSH: Connect to Host. Then your hostname should pop up for your to connect. You should again be greeted with a welcome page, in the start section, click open folder and navigate to your project folder. \n",
    "\n",
    "Now you are all set to start developing on your remote machine.\n",
    "\n",
    "* You should install extensions on the remote machine "
   ]
  },
  {
   "cell_type": "markdown",
   "metadata": {},
   "source": [
    "## Resources:\n",
    "* A short video on the command pallete and navigation [Command Palette and Navigation\n",
    "](https://www.youtube.com/watch?v=hWy0Aq9ShG0)\n",
    "* A long video by Microsoft [Visual Studio Code Tips and Tricks](https://www.youtube.com/watch?v=tnSnVlbKtMk)\n",
    "* [Documentation](https://code.visualstudio.com/docs)\n",
    "* [remote development](https://code.visualstudio.com/docs/remote/remote-overview)"
   ]
  }
 ],
 "metadata": {
  "kernelspec": {
   "display_name": "Python 3",
   "language": "python",
   "name": "python3"
  },
  "language_info": {
   "codemirror_mode": {
    "name": "ipython",
    "version": 3
   },
   "file_extension": ".py",
   "mimetype": "text/x-python",
   "name": "python",
   "nbconvert_exporter": "python",
   "pygments_lexer": "ipython3",
   "version": "3.6.8"
  }
 },
 "nbformat": 4,
 "nbformat_minor": 4
}
